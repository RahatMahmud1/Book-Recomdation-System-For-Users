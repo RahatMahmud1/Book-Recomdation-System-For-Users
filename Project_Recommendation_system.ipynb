{
 "cells": [
  {
   "cell_type": "markdown",
   "metadata": {},
   "source": [
    "## Book Recomdation System For Users"
   ]
  },
  {
   "cell_type": "markdown",
   "metadata": {},
   "source": [
    "We have implemented **Recommender System** using a book rating data set [link](https://lists.w3.org/Archives/Public/public-rww/2013Dec/0002.html). We will create a data mining model that recommends books to users."
   ]
  },
  {
   "cell_type": "code",
   "execution_count": 30,
   "metadata": {},
   "outputs": [],
   "source": [
    "import pandas as pd\n",
    "import numpy as np\n",
    "# import the functions for cosine distance, euclidean distance, and the correlation distance\n",
    "from scipy.spatial.distance import cosine, euclidean\n",
    "from sklearn.model_selection import train_test_split\n",
    "\n",
    "# settings\n",
    "%matplotlib inline\n",
    "\n"
   ]
  },
  {
   "cell_type": "code",
   "execution_count": 31,
   "metadata": {},
   "outputs": [
    {
     "name": "stdout",
     "output_type": "stream",
     "text": [
      "   userID  itemID  rate\n",
      "0    6873    3201     4\n",
      "1    6873    3098     4\n",
      "2    6873    4198     4\n",
      "3    6873    5950     4\n",
      "4    6873     204     4\n",
      "5    6873    8010     5\n",
      "6    6873    5232     4\n",
      "7    6873    7538     4\n",
      "8    6873    5231     3\n",
      "9    6873    5438     3\n"
     ]
    }
   ],
   "source": [
    "df_data1 = pd.read_table(\"DBbook_train_ratings.tsv\") # the location to the data file\n",
    "                                             \n",
    "\n",
    "print(df_data1.head(10))"
   ]
  },
  {
   "cell_type": "markdown",
   "metadata": {},
   "source": [
    "#### Printing the number of unique users and the number of unique books in this data set."
   ]
  },
  {
   "cell_type": "code",
   "execution_count": 32,
   "metadata": {},
   "outputs": [
    {
     "name": "stdout",
     "output_type": "stream",
     "text": [
      "Ratings: 75558\n",
      "Unique users: 6181\n",
      "Unique items: 6166\n"
     ]
    }
   ],
   "source": [
    "# df_data1[\"user\"].unique() returns the unique values in the \"user\" column\n",
    "# the len function returns the length of a list-like object\n",
    "print(\"Ratings: %d\" % len(df_data1))\n",
    "print(\"Unique users: %d\" % len(df_data1[\"userID\"].unique()))\n",
    "print(\"Unique items: %d\" % len(df_data1[\"itemID\"].unique()))"
   ]
  },
  {
   "cell_type": "markdown",
   "metadata": {},
   "source": [
    "Creating the utility matrix. Each row of this matrix represents a user, and each column represents an item. Printing the first 10 rows of matrix. Printing the number and the percentage of cells in the utility matrix that are not populated. And filling these empty cells with 0s."
   ]
  },
  {
   "cell_type": "markdown",
   "metadata": {},
   "source": [
    "### Finding the K most similar items/user to a given item/user"
   ]
  },
  {
   "cell_type": "code",
   "execution_count": 33,
   "metadata": {
    "scrolled": true
   },
   "outputs": [
    {
     "name": "stdout",
     "output_type": "stream",
     "text": [
      "Shape of the user-item matrix: 6181 x 6166\n",
      "itemID  1     2     3     5     7     8     9     11    12    13    ...  8157  \\\n",
      "userID                                                              ...         \n",
      "1        NaN   NaN   NaN   NaN   NaN   NaN   NaN   NaN   NaN   NaN  ...   NaN   \n",
      "2        NaN   NaN   NaN   NaN   NaN   NaN   NaN   NaN   NaN   NaN  ...   NaN   \n",
      "3        NaN   NaN   NaN   NaN   NaN   NaN   NaN   NaN   NaN   NaN  ...   NaN   \n",
      "4        NaN   NaN   NaN   NaN   NaN   NaN   NaN   NaN   NaN   NaN  ...   NaN   \n",
      "5        NaN   NaN   NaN   NaN   NaN   NaN   NaN   NaN   NaN   NaN  ...   NaN   \n",
      "6        NaN   NaN   NaN   NaN   NaN   NaN   NaN   NaN   NaN   NaN  ...   NaN   \n",
      "7        NaN   NaN   NaN   NaN   NaN   NaN   NaN   NaN   NaN   NaN  ...   NaN   \n",
      "8        NaN   NaN   NaN   NaN   NaN   NaN   NaN   NaN   NaN   NaN  ...   NaN   \n",
      "9        NaN   NaN   NaN   NaN   NaN   NaN   NaN   NaN   NaN   NaN  ...   NaN   \n",
      "10       NaN   NaN   NaN   NaN   NaN   NaN   NaN   NaN   NaN   NaN  ...   NaN   \n",
      "\n",
      "itemID  8160  8161  8162  8163  8164  8166  8167  8168  8169  \n",
      "userID                                                        \n",
      "1        NaN   NaN   NaN   NaN   NaN   NaN   NaN   NaN   NaN  \n",
      "2        NaN   NaN   NaN   NaN   NaN   NaN   NaN   NaN   NaN  \n",
      "3        NaN   NaN   NaN   NaN   NaN   NaN   NaN   NaN   NaN  \n",
      "4        NaN   NaN   NaN   NaN   NaN   NaN   NaN   4.0   NaN  \n",
      "5        NaN   NaN   NaN   NaN   NaN   NaN   NaN   NaN   NaN  \n",
      "6        NaN   NaN   NaN   NaN   NaN   NaN   NaN   4.0   NaN  \n",
      "7        NaN   NaN   NaN   NaN   NaN   NaN   NaN   NaN   NaN  \n",
      "8        NaN   NaN   NaN   NaN   NaN   NaN   NaN   NaN   NaN  \n",
      "9        NaN   NaN   NaN   NaN   NaN   NaN   NaN   NaN   NaN  \n",
      "10       NaN   NaN   NaN   NaN   NaN   NaN   NaN   NaN   NaN  \n",
      "\n",
      "[10 rows x 6166 columns]\n"
     ]
    }
   ],
   "source": [
    "dense_matrix = df_data1.pivot_table(values=\"rate\", index=[\"userID\"], columns=[\"itemID\"])\n",
    "print(\"Shape of the user-item matrix: %d x %d\" % dense_matrix.shape)\n",
    "print(dense_matrix.head(10))"
   ]
  },
  {
   "cell_type": "code",
   "execution_count": 34,
   "metadata": {},
   "outputs": [
    {
     "data": {
      "text/plain": [
       "userID\n",
       "1      NaN\n",
       "2      NaN\n",
       "3      NaN\n",
       "4      NaN\n",
       "5      NaN\n",
       "        ..\n",
       "7251   NaN\n",
       "7252   NaN\n",
       "7253   NaN\n",
       "7254   NaN\n",
       "7255   NaN\n",
       "Name: 3, Length: 6181, dtype: float64"
      ]
     },
     "execution_count": 34,
     "metadata": {},
     "output_type": "execute_result"
    }
   ],
   "source": [
    "# return all ratings for Item 3\n",
    "# access a column using the column name\n",
    "dense_matrix[3] # equivalent to dense_matrix.loc[:,3]"
   ]
  },
  {
   "cell_type": "code",
   "execution_count": 35,
   "metadata": {},
   "outputs": [
    {
     "data": {
      "text/plain": [
       "itemID\n",
       "1      NaN\n",
       "2      NaN\n",
       "3      NaN\n",
       "5      NaN\n",
       "7      NaN\n",
       "        ..\n",
       "8164   NaN\n",
       "8166   NaN\n",
       "8167   NaN\n",
       "8168   NaN\n",
       "8169   NaN\n",
       "Name: 2, Length: 6166, dtype: float64"
      ]
     },
     "execution_count": 35,
     "metadata": {},
     "output_type": "execute_result"
    }
   ],
   "source": [
    "# return all ratings by User 2\n",
    "# access a row using the row index\n",
    "\"\"\"\n",
    "This is not to be confused with DataFrame.iloc[].\n",
    "loc locates a row using its index.\n",
    "iloc locates a row using its position.\n",
    "A row with an index of 1 maybe the 4th row of a data frame.\n",
    "\"\"\"\n",
    "dense_matrix.loc[2] # .loc[row_lable, column_lable]"
   ]
  },
  {
   "cell_type": "code",
   "execution_count": 36,
   "metadata": {},
   "outputs": [
    {
     "data": {
      "text/plain": [
       "nan"
      ]
     },
     "execution_count": 36,
     "metadata": {},
     "output_type": "execute_result"
    }
   ],
   "source": [
    "# retrieve the rating of User 2 on Item 1\n",
    "# the first index is the column index (item)\n",
    "# the second index is the row index (user)\n",
    "dense_matrix[1][2]"
   ]
  },
  {
   "cell_type": "code",
   "execution_count": 37,
   "metadata": {},
   "outputs": [
    {
     "data": {
      "text/plain": [
       "4.05"
      ]
     },
     "execution_count": 37,
     "metadata": {},
     "output_type": "execute_result"
    }
   ],
   "source": [
    "# the mean rating of Item 2\n",
    "dense_matrix[2].mean()"
   ]
  },
  {
   "cell_type": "code",
   "execution_count": 38,
   "metadata": {},
   "outputs": [
    {
     "name": "stdout",
     "output_type": "stream",
     "text": [
      "6166\n"
     ]
    },
    {
     "data": {
      "text/plain": [
       "8"
      ]
     },
     "execution_count": 38,
     "metadata": {},
     "output_type": "execute_result"
    }
   ],
   "source": [
    "# the iloc method returns a row from a data frame based on a row index\n",
    "user1_ratings = dense_matrix.iloc[1]\n",
    "# the isnull() method of a pandas series checks each value to see if it is null (NaN)\n",
    "print(len(user1_ratings.isnull()))\n",
    "# the following line selects values user1_ratings that are not null\n",
    "user1_not_null = user1_ratings[user1_ratings.notnull()]\n",
    "# print the number of item (non-missing ratings) rated by User 1\n",
    "len(user1_not_null)"
   ]
  },
  {
   "cell_type": "markdown",
   "metadata": {},
   "source": [
    "### Replacing missing rating with 0s"
   ]
  },
  {
   "cell_type": "markdown",
   "metadata": {},
   "source": [
    "Missing values (NaN) usually cannot be used in numerical calculations"
   ]
  },
  {
   "cell_type": "code",
   "execution_count": 39,
   "metadata": {},
   "outputs": [
    {
     "data": {
      "text/html": [
       "<div>\n",
       "<style scoped>\n",
       "    .dataframe tbody tr th:only-of-type {\n",
       "        vertical-align: middle;\n",
       "    }\n",
       "\n",
       "    .dataframe tbody tr th {\n",
       "        vertical-align: top;\n",
       "    }\n",
       "\n",
       "    .dataframe thead th {\n",
       "        text-align: right;\n",
       "    }\n",
       "</style>\n",
       "<table border=\"1\" class=\"dataframe\">\n",
       "  <thead>\n",
       "    <tr style=\"text-align: right;\">\n",
       "      <th>itemID</th>\n",
       "      <th>1</th>\n",
       "      <th>2</th>\n",
       "      <th>3</th>\n",
       "      <th>5</th>\n",
       "      <th>7</th>\n",
       "      <th>8</th>\n",
       "      <th>9</th>\n",
       "      <th>11</th>\n",
       "      <th>12</th>\n",
       "      <th>13</th>\n",
       "      <th>...</th>\n",
       "      <th>8157</th>\n",
       "      <th>8160</th>\n",
       "      <th>8161</th>\n",
       "      <th>8162</th>\n",
       "      <th>8163</th>\n",
       "      <th>8164</th>\n",
       "      <th>8166</th>\n",
       "      <th>8167</th>\n",
       "      <th>8168</th>\n",
       "      <th>8169</th>\n",
       "    </tr>\n",
       "    <tr>\n",
       "      <th>userID</th>\n",
       "      <th></th>\n",
       "      <th></th>\n",
       "      <th></th>\n",
       "      <th></th>\n",
       "      <th></th>\n",
       "      <th></th>\n",
       "      <th></th>\n",
       "      <th></th>\n",
       "      <th></th>\n",
       "      <th></th>\n",
       "      <th></th>\n",
       "      <th></th>\n",
       "      <th></th>\n",
       "      <th></th>\n",
       "      <th></th>\n",
       "      <th></th>\n",
       "      <th></th>\n",
       "      <th></th>\n",
       "      <th></th>\n",
       "      <th></th>\n",
       "      <th></th>\n",
       "    </tr>\n",
       "  </thead>\n",
       "  <tbody>\n",
       "    <tr>\n",
       "      <td>1</td>\n",
       "      <td>0.0</td>\n",
       "      <td>0.0</td>\n",
       "      <td>0.0</td>\n",
       "      <td>0.0</td>\n",
       "      <td>0.0</td>\n",
       "      <td>0.0</td>\n",
       "      <td>0.0</td>\n",
       "      <td>0.0</td>\n",
       "      <td>0.0</td>\n",
       "      <td>0.0</td>\n",
       "      <td>...</td>\n",
       "      <td>0.0</td>\n",
       "      <td>0.0</td>\n",
       "      <td>0.0</td>\n",
       "      <td>0.0</td>\n",
       "      <td>0.0</td>\n",
       "      <td>0.0</td>\n",
       "      <td>0.0</td>\n",
       "      <td>0.0</td>\n",
       "      <td>0.0</td>\n",
       "      <td>0.0</td>\n",
       "    </tr>\n",
       "    <tr>\n",
       "      <td>2</td>\n",
       "      <td>0.0</td>\n",
       "      <td>0.0</td>\n",
       "      <td>0.0</td>\n",
       "      <td>0.0</td>\n",
       "      <td>0.0</td>\n",
       "      <td>0.0</td>\n",
       "      <td>0.0</td>\n",
       "      <td>0.0</td>\n",
       "      <td>0.0</td>\n",
       "      <td>0.0</td>\n",
       "      <td>...</td>\n",
       "      <td>0.0</td>\n",
       "      <td>0.0</td>\n",
       "      <td>0.0</td>\n",
       "      <td>0.0</td>\n",
       "      <td>0.0</td>\n",
       "      <td>0.0</td>\n",
       "      <td>0.0</td>\n",
       "      <td>0.0</td>\n",
       "      <td>0.0</td>\n",
       "      <td>0.0</td>\n",
       "    </tr>\n",
       "    <tr>\n",
       "      <td>3</td>\n",
       "      <td>0.0</td>\n",
       "      <td>0.0</td>\n",
       "      <td>0.0</td>\n",
       "      <td>0.0</td>\n",
       "      <td>0.0</td>\n",
       "      <td>0.0</td>\n",
       "      <td>0.0</td>\n",
       "      <td>0.0</td>\n",
       "      <td>0.0</td>\n",
       "      <td>0.0</td>\n",
       "      <td>...</td>\n",
       "      <td>0.0</td>\n",
       "      <td>0.0</td>\n",
       "      <td>0.0</td>\n",
       "      <td>0.0</td>\n",
       "      <td>0.0</td>\n",
       "      <td>0.0</td>\n",
       "      <td>0.0</td>\n",
       "      <td>0.0</td>\n",
       "      <td>0.0</td>\n",
       "      <td>0.0</td>\n",
       "    </tr>\n",
       "    <tr>\n",
       "      <td>4</td>\n",
       "      <td>0.0</td>\n",
       "      <td>0.0</td>\n",
       "      <td>0.0</td>\n",
       "      <td>0.0</td>\n",
       "      <td>0.0</td>\n",
       "      <td>0.0</td>\n",
       "      <td>0.0</td>\n",
       "      <td>0.0</td>\n",
       "      <td>0.0</td>\n",
       "      <td>0.0</td>\n",
       "      <td>...</td>\n",
       "      <td>0.0</td>\n",
       "      <td>0.0</td>\n",
       "      <td>0.0</td>\n",
       "      <td>0.0</td>\n",
       "      <td>0.0</td>\n",
       "      <td>0.0</td>\n",
       "      <td>0.0</td>\n",
       "      <td>0.0</td>\n",
       "      <td>4.0</td>\n",
       "      <td>0.0</td>\n",
       "    </tr>\n",
       "    <tr>\n",
       "      <td>5</td>\n",
       "      <td>0.0</td>\n",
       "      <td>0.0</td>\n",
       "      <td>0.0</td>\n",
       "      <td>0.0</td>\n",
       "      <td>0.0</td>\n",
       "      <td>0.0</td>\n",
       "      <td>0.0</td>\n",
       "      <td>0.0</td>\n",
       "      <td>0.0</td>\n",
       "      <td>0.0</td>\n",
       "      <td>...</td>\n",
       "      <td>0.0</td>\n",
       "      <td>0.0</td>\n",
       "      <td>0.0</td>\n",
       "      <td>0.0</td>\n",
       "      <td>0.0</td>\n",
       "      <td>0.0</td>\n",
       "      <td>0.0</td>\n",
       "      <td>0.0</td>\n",
       "      <td>0.0</td>\n",
       "      <td>0.0</td>\n",
       "    </tr>\n",
       "  </tbody>\n",
       "</table>\n",
       "<p>5 rows × 6166 columns</p>\n",
       "</div>"
      ],
      "text/plain": [
       "itemID  1     2     3     5     7     8     9     11    12    13    ...  8157  \\\n",
       "userID                                                              ...         \n",
       "1        0.0   0.0   0.0   0.0   0.0   0.0   0.0   0.0   0.0   0.0  ...   0.0   \n",
       "2        0.0   0.0   0.0   0.0   0.0   0.0   0.0   0.0   0.0   0.0  ...   0.0   \n",
       "3        0.0   0.0   0.0   0.0   0.0   0.0   0.0   0.0   0.0   0.0  ...   0.0   \n",
       "4        0.0   0.0   0.0   0.0   0.0   0.0   0.0   0.0   0.0   0.0  ...   0.0   \n",
       "5        0.0   0.0   0.0   0.0   0.0   0.0   0.0   0.0   0.0   0.0  ...   0.0   \n",
       "\n",
       "itemID  8160  8161  8162  8163  8164  8166  8167  8168  8169  \n",
       "userID                                                        \n",
       "1        0.0   0.0   0.0   0.0   0.0   0.0   0.0   0.0   0.0  \n",
       "2        0.0   0.0   0.0   0.0   0.0   0.0   0.0   0.0   0.0  \n",
       "3        0.0   0.0   0.0   0.0   0.0   0.0   0.0   0.0   0.0  \n",
       "4        0.0   0.0   0.0   0.0   0.0   0.0   0.0   4.0   0.0  \n",
       "5        0.0   0.0   0.0   0.0   0.0   0.0   0.0   0.0   0.0  \n",
       "\n",
       "[5 rows x 6166 columns]"
      ]
     },
     "execution_count": 39,
     "metadata": {},
     "output_type": "execute_result"
    }
   ],
   "source": [
    "dense_matrix = dense_matrix.fillna(0)\n",
    "dense_matrix.head()"
   ]
  },
  {
   "cell_type": "markdown",
   "metadata": {},
   "source": [
    "#### Q3. Printing the top 5 similar users to userID 2 based on Euclidean distance. "
   ]
  },
  {
   "cell_type": "markdown",
   "metadata": {},
   "source": [
    "### Finding the K most similar items/user to a given item/user"
   ]
  },
  {
   "cell_type": "markdown",
   "metadata": {},
   "source": [
    "#### Using Euclidean distance"
   ]
  },
  {
   "cell_type": "code",
   "execution_count": 40,
   "metadata": {},
   "outputs": [],
   "source": [
    "# define a functions, which takes the given item number (integer) as the input and returns the top K similar items (in a data frame)\n",
    "def top_k_items(item_number, k):\n",
    "    # copy the dense matrix and transpose it so each row represents an item\n",
    "    df_sim = dense_matrix.transpose()\n",
    "    # remove the active item \n",
    "    df_sim = df_sim.loc[df_sim.index != item_number]\n",
    "    # calculate the distance between the given item for each row (apply the function to each row if axis = 1)\n",
    "    df_sim[\"distance\"] = df_sim.apply(lambda x: euclidean(dense_matrix[item_number], x), axis=1)\n",
    "    # return the top k from the sorted distances\n",
    "    return df_sim.sort_values(by=\"distance\").head(k)[\"distance\"]   "
   ]
  },
  {
   "cell_type": "code",
   "execution_count": 41,
   "metadata": {},
   "outputs": [
    {
     "data": {
      "text/plain": [
       "itemID\n",
       "1       12.727922\n",
       "1591    17.888544\n",
       "6447    17.888544\n",
       "6576    17.916473\n",
       "7312    18.138357\n",
       "Name: distance, dtype: float64"
      ]
     },
     "execution_count": 41,
     "metadata": {},
     "output_type": "execute_result"
    }
   ],
   "source": [
    "# retrieve top five similar items to ItemID 2\n",
    "top_k_items(2, 5)"
   ]
  },
  {
   "cell_type": "code",
   "execution_count": 42,
   "metadata": {},
   "outputs": [],
   "source": [
    "def top_k_users(user_number, k):\n",
    "    # no need to transpose the matrix this time because the rows already represent users\n",
    "    # remove the active user\n",
    "    df_sim = dense_matrix.loc[dense_matrix.index != user_number]\n",
    "    # calculate the distance for between the given user and each row\n",
    "    df_sim[\"distance\"] = df_sim.apply(lambda x: euclidean(dense_matrix.loc[user_number], x), axis=1)\n",
    "    # return the top k from the sorted distances\n",
    "    return df_sim.sort_values(by=\"distance\").head(k)[\"distance\"] "
   ]
  },
  {
   "cell_type": "code",
   "execution_count": 43,
   "metadata": {},
   "outputs": [
    {
     "name": "stderr",
     "output_type": "stream",
     "text": [
      "C:\\Users\\mrmni\\Anaconda3\\lib\\site-packages\\ipykernel_launcher.py:6: SettingWithCopyWarning: \n",
      "A value is trying to be set on a copy of a slice from a DataFrame.\n",
      "Try using .loc[row_indexer,col_indexer] = value instead\n",
      "\n",
      "See the caveats in the documentation: http://pandas.pydata.org/pandas-docs/stable/user_guide/indexing.html#returning-a-view-versus-a-copy\n",
      "  \n"
     ]
    },
    {
     "data": {
      "text/plain": [
       "userID\n",
       "5066    16.613248\n",
       "590     16.852300\n",
       "6861    16.911535\n",
       "6875    16.970563\n",
       "4568    17.175564\n",
       "Name: distance, dtype: float64"
      ]
     },
     "execution_count": 43,
     "metadata": {},
     "output_type": "execute_result"
    }
   ],
   "source": [
    "# retrieve top five similar users to User 3\n",
    "top_k_users(3, 5)"
   ]
  },
  {
   "cell_type": "markdown",
   "metadata": {},
   "source": [
    "#### K Nearest Neighbors Algorithm"
   ]
  },
  {
   "cell_type": "code",
   "execution_count": 44,
   "metadata": {},
   "outputs": [
    {
     "name": "stdout",
     "output_type": "stream",
     "text": [
      "[[0. 0. 0. ... 0. 0. 0.]]\n",
      "[[16.61324773 16.85229955 16.91153453 16.97056275 17.17556404]] [[4318  497 5847 5860 3903]]\n",
      "5066 16.61324772583615\n",
      "590 16.852299546352718\n",
      "6861 16.911534525287763\n",
      "6875 16.97056274847714\n",
      "4568 17.175564037317667\n"
     ]
    }
   ],
   "source": [
    "from sklearn.neighbors import NearestNeighbors\n",
    "# create an instance of the learner and specify it to use Euclidean distance\n",
    "nbrs = NearestNeighbors(n_neighbors=5, metric=\"euclidean\")\n",
    "# fit the learner using all user ratings except for User 3\n",
    "nbrs.fit(dense_matrix.loc[dense_matrix.index != 3])\n",
    "user3= dense_matrix.loc[3].values.reshape((-1,len(dense_matrix.loc[3])))\n",
    "#user3= dense_matrix.loc[3]\n",
    "print(user3)\n",
    "# the learner returns the distances and locations of the 5 nearest neighbors of User 3\n",
    "distances, locs = nbrs.kneighbors(user3, 5)\n",
    "print(distances, locs)\n",
    "# retrieve these neighbors from the user-item matrix based on the locations\n",
    "# the ravel method returns a flattened list. In the code below, it converts a 2D array with one row to a 1D array\n",
    "sim_users = dense_matrix.loc[dense_matrix.index != 3].iloc[locs.ravel()].index\n",
    "# print the user indexes and the distances\n",
    "for sim_user, dist in zip(sim_users, distances.ravel()):\n",
    "    print(sim_user, dist)"
   ]
  },
  {
   "cell_type": "markdown",
   "metadata": {},
   "source": [
    "#### Print the Euclidean distance between itemID 18 and itemID 1. printing the Enclidean distance between itemID36 and itemID 1. Printing a statement that tells between itemID36 and itemID18, which is more similar to itemID 1 and why. "
   ]
  },
  {
   "cell_type": "code",
   "execution_count": 45,
   "metadata": {},
   "outputs": [
    {
     "name": "stdout",
     "output_type": "stream",
     "text": [
      "Euclidean distance between itemID 18 and itemID 1: 29.189039038652847\n",
      "Euclidean distance between itemID 36 and itemID 1: 40.124805295477756\n"
     ]
    }
   ],
   "source": [
    "print(\"Euclidean distance between itemID 18 and itemID 1:\",euclidean(dense_matrix[18], dense_matrix[1]))\n",
    "print(\"Euclidean distance between itemID 36 and itemID 1:\",euclidean(dense_matrix[36], dense_matrix[1]))"
   ]
  },
  {
   "cell_type": "markdown",
   "metadata": {},
   "source": [
    "#### Printing the top 5 similar items to itemID 8010."
   ]
  },
  {
   "cell_type": "code",
   "execution_count": 46,
   "metadata": {},
   "outputs": [
    {
     "data": {
      "text/plain": [
       "itemID\n",
       "3711    127.921851\n",
       "4559    127.964839\n",
       "330     129.715072\n",
       "1311    129.722781\n",
       "7328    129.761319\n",
       "Name: distance, dtype: float64"
      ]
     },
     "execution_count": 46,
     "metadata": {},
     "output_type": "execute_result"
    }
   ],
   "source": [
    "top_k_items(8010, 5)"
   ]
  },
  {
   "cell_type": "markdown",
   "metadata": {},
   "source": [
    "#### Removing books and users with less than 20 rating scores from the utility matrix by copying and maybe modifying the following codes. Printing the shape of the dataset."
   ]
  },
  {
   "cell_type": "code",
   "execution_count": 47,
   "metadata": {},
   "outputs": [
    {
     "name": "stdout",
     "output_type": "stream",
     "text": [
      "Shape of the dataset: (766, 776)\n"
     ]
    }
   ],
   "source": [
    "df_item_freq = df_data1.groupby(\"itemID\").count()\n",
    "df_user_freq = df_data1.groupby(\"userID\").count()\n",
    "selected_items = df_item_freq[df_item_freq[\"userID\"] > 20].index\n",
    "dense_matrix = dense_matrix[selected_items]\n",
    "selected_users = df_user_freq[df_user_freq[\"itemID\"] > 20].index\n",
    "dense_matrix = dense_matrix.loc[selected_users]\n",
    "print(\"Shape of the dataset:\", dense_matrix.shape)"
   ]
  },
  {
   "cell_type": "markdown",
   "metadata": {},
   "source": [
    "#### Removing users that haven’t rated itemID8010, and then please write code to print the counts of the different rating scores of this item. Printing the shape of the dataset."
   ]
  },
  {
   "cell_type": "code",
   "execution_count": 48,
   "metadata": {},
   "outputs": [
    {
     "name": "stdout",
     "output_type": "stream",
     "text": [
      "Shape of the dataset: (174, 776)\n"
     ]
    }
   ],
   "source": [
    "#Removing users that haven't rated itemID 8010\n",
    "dense_matrix = dense_matrix[dense_matrix[8010] > 0]\n",
    "dense_matrix[8010].value_counts()\n",
    "print(\"Shape of the dataset:\", dense_matrix.shape)"
   ]
  },
  {
   "cell_type": "markdown",
   "metadata": {},
   "source": [
    "#### Partitioning the data set you obtained from Q7 for validating the performance on predicting rating on itemID 8010. Randomly select 25% of the users as the testing set and the others as the training set. Please print the dimensions of the training set and the testing set. Please write code to print the mean rating of itemID 8010 in the training set and its mean rating in the testing set. "
   ]
  },
  {
   "cell_type": "code",
   "execution_count": 49,
   "metadata": {},
   "outputs": [
    {
     "data": {
      "text/plain": [
       "4.0    68\n",
       "5.0    58\n",
       "3.0    27\n",
       "2.0    13\n",
       "1.0     8\n",
       "Name: 8010, dtype: int64"
      ]
     },
     "execution_count": 49,
     "metadata": {},
     "output_type": "execute_result"
    }
   ],
   "source": [
    "dense_matrix[8010].value_counts()"
   ]
  },
  {
   "cell_type": "code",
   "execution_count": 50,
   "metadata": {},
   "outputs": [
    {
     "name": "stdout",
     "output_type": "stream",
     "text": [
      "(174, 775)\n",
      "(174, 1)\n",
      "Train set shape: (130, 775)\n",
      "Test set shape: (44, 775)\n",
      "Mean rating of itemID 8010 in training set: 3.9153846153846152\n",
      "Mean rating of itemID 8010 in test set: 3.8181818181818183\n"
     ]
    }
   ],
   "source": [
    "from sklearn.model_selection import train_test_split\n",
    "\n",
    "# create a data frame for the predictors\n",
    "df_x = dense_matrix[[col for col in dense_matrix.columns if col != 8010]]\n",
    "print(df_x.shape)\n",
    "\n",
    "# create a series for the outcome\n",
    "df_y = dense_matrix[[8010]]\n",
    "print(df_y.shape)\n",
    "\n",
    "train_x, test_x, train_y, test_y = train_test_split(df_x, df_y, test_size=0.25, random_state=0)\n",
    "\n",
    "print(\"Train set shape:\", train_x.shape)\n",
    "print(\"Test set shape:\", test_x.shape)\n",
    "\n",
    "print(\"Mean rating of itemID 8010 in training set:\", train_y.mean().iloc[0])\n",
    "print(\"Mean rating of itemID 8010 in test set:\", test_y.mean().iloc[0])"
   ]
  },
  {
   "cell_type": "markdown",
   "metadata": {},
   "source": [
    "Using the training and test dataset obtained in Q8 and write code to 1) Printing the userID of the the user in the 5th row (not userID5) in the test dataset, and 2) Predicting this user’s rating of itemID 8010 based on the top 5 similar users in the training dataset, and printing the user’s predicted rating and the actual rating of the book. "
   ]
  },
  {
   "cell_type": "code",
   "execution_count": 51,
   "metadata": {},
   "outputs": [],
   "source": [
    "# specify the number of similar users to retrieve\n",
    "k = 5\n",
    "\n",
    "def user_based_predict(user_number):\n",
    "    # retrieve the top k similar users\n",
    "    # copy from all the training predictors\n",
    "    df_sim = df_train_x.copy()\n",
    "    # for each user, calculate the distance between this user and the active user\n",
    "    df_sim[\"distance\"] = df_sim.apply(lambda x: euclidean(df_test_x.loc[user_number], x), axis=1)\n",
    "    # create a new data frame to store the top k similar users\n",
    "    df_sim_users = df_sim.loc[df_sim.sort_values(by=\"distance\").head(k).index]\n",
    "    # calculate these similar users' rating on 151, weighted by distance\n",
    "    df_sim_users[\"weighed_d\"] = list(map(lambda x: df_sim_users.loc[x][\"distance\"]*df_train_y.loc[x][8010], df_sim_users.index))\n",
    "    predicted = df_sim_users[\"weighed_d\"].sum()/df_sim_users[\"distance\"].sum()\n",
    "    return predicted"
   ]
  },
  {
   "cell_type": "code",
   "execution_count": 52,
   "metadata": {},
   "outputs": [
    {
     "name": "stdout",
     "output_type": "stream",
     "text": [
      "5th row userID in test set: 5614\n",
      "Predicted rating of this user on Item 8010: 4.013489148846391\n",
      "True rating of this user on Item 8010: 4.0\n"
     ]
    }
   ],
   "source": [
    "# print 5th row userID\n",
    "print(\"5th row userID in test set:\", test_x.index[4])\n",
    "\n",
    "uid = test_x.index[4]\n",
    "print(\"Predicted rating of this user on Item 8010:\", user_based_predict(uid))\n",
    "print(\"True rating of this user on Item 8010:\", test_y.loc[uid][8010])"
   ]
  },
  {
   "cell_type": "markdown",
   "metadata": {},
   "source": [
    "#### Conclusion:\n",
    "According to the result we see that our prediction model did very well; the prediction is prediction is pretty close to the actual writting."
   ]
  },
  {
   "cell_type": "markdown",
   "metadata": {},
   "source": [
    "###                          ----THE END----"
   ]
  }
 ],
 "metadata": {
  "hide_input": false,
  "kernelspec": {
   "display_name": "Python 3",
   "language": "python",
   "name": "python3"
  },
  "language_info": {
   "codemirror_mode": {
    "name": "ipython",
    "version": 3
   },
   "file_extension": ".py",
   "mimetype": "text/x-python",
   "name": "python",
   "nbconvert_exporter": "python",
   "pygments_lexer": "ipython3",
   "version": "3.7.4"
  }
 },
 "nbformat": 4,
 "nbformat_minor": 2
}
